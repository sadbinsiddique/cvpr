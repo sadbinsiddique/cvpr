{
  "nbformat": 4,
  "nbformat_minor": 0,
  "metadata": {
    "colab": {
      "private_outputs": true,
      "provenance": [],
      "cell_execution_strategy": "setup"
    },
    "kernelspec": {
      "name": "python3",
      "display_name": "Python 3"
    },
    "language_info": {
      "name": "python"
    }
  },
  "cells": [
    {
      "cell_type": "markdown",
      "source": [
        "**IMAGE CLASSIFICATION USING CIFAR-10 DATASET: A COMPARISON OF MANHATTAN (L1) AND EUCLIDEAN\n",
        "(L2) DISTANCES WITH 5-FOLD CROSS-VALIDATION**\n"
      ],
      "metadata": {
        "id": "JGhpc2ARfPU5"
      }
    },
    {
      "cell_type": "markdown",
      "source": [
        "\n",
        "# Data Downlode\n",
        "[CIFAR-10 DATASET](https://www.kaggle.com/datasets/ashishsaxena2209/animal-image-datasetdog-cat-and-panda)\n",
        "\n"
      ],
      "metadata": {
        "id": "f6SsqDC6fndH"
      }
    },
    {
      "cell_type": "code",
      "source": [
        "import kagglehub\n",
        "\n",
        "path = kagglehub.dataset_download(\"ashishsaxena2209/animal-image-datasetdog-cat-and-panda\")\n",
        "\n",
        "print(\"Path to dataset files:\", path)"
      ],
      "metadata": {
        "id": "BaHV-qJ8i8my"
      },
      "execution_count": null,
      "outputs": []
    },
    {
      "cell_type": "markdown",
      "source": [
        "**=================== STEP 1: SETUP ===================**"
      ],
      "metadata": {
        "id": "3B2h5AcqhbU1"
      }
    },
    {
      "cell_type": "code",
      "source": [
        "import os\n",
        "import shutil\n",
        "import cv2\n",
        "import numpy as np\n",
        "import matplotlib.pyplot as plt\n",
        "from random import shuffle, sample\n",
        "from sklearn.model_selection import StratifiedKFold\n",
        "from sklearn.neighbors import KNeighborsClassifier\n",
        "from sklearn.metrics import accuracy_score, classification_report\n",
        "from sklearn.preprocessing import StandardScaler\n",
        "from sklearn.decomposition import PCA"
      ],
      "metadata": {
        "id": "Gw301MR-hklh"
      },
      "execution_count": null,
      "outputs": []
    },
    {
      "cell_type": "markdown",
      "source": [
        "**=================== STEP 2: COPY IMAGES ===================**"
      ],
      "metadata": {
        "id": "UxOtF1lWhpK_"
      }
    },
    {
      "cell_type": "code",
      "source": [
        "categories = ['dogs', 'cats', 'panda']\n",
        "source_base = '/input/animal-image-datasetdog-cat-and-panda/animals'\n",
        "target_base = '/input/animal-image-datasetdog-cat-and-panda/images'\n",
        "\n",
        "def copy_images(source_dir, target_dir, num_images=1000):\n",
        "    if not os.path.exists(target_dir):\n",
        "        os.makedirs(target_dir)\n",
        "    all_files = os.listdir(source_dir)\n",
        "    shuffle(all_files)\n",
        "    for file in all_files[:num_images]:\n",
        "        src_path = os.path.join(source_dir, file)\n",
        "        dst_path = os.path.join(target_dir, file)\n",
        "        shutil.copy(src_path, dst_path)\n",
        "\n",
        "for category in categories:\n",
        "    copy_images(os.path.join(source_base, category),\n",
        "                os.path.join(target_base, category))"
      ],
      "metadata": {
        "id": "5_4cyMYuhuDq"
      },
      "execution_count": null,
      "outputs": []
    },
    {
      "cell_type": "markdown",
      "source": [
        "**=================== STEP 3: LOAD & PREPROCESS ===================**"
      ],
      "metadata": {
        "id": "pcu8S7WXjQfR"
      }
    },
    {
      "cell_type": "code",
      "source": [
        "IMG_SIZE = 32\n",
        "X_list, y_list = [], []\n",
        "\n",
        "for label, cls in enumerate(categories):\n",
        "    cls_path = os.path.join(target_base, cls)\n",
        "    for img_name in os.listdir(cls_path):\n",
        "        img_path = os.path.join(cls_path, img_name)\n",
        "        try:\n",
        "            img = cv2.imread(img_path)\n",
        "            gray = cv2.cvtColor(img, cv2.COLOR_BGR2GRAY)\n",
        "            gray = cv2.equalizeHist(gray)\n",
        "            resized = cv2.resize(gray, (IMG_SIZE, IMG_SIZE))\n",
        "            X_list.append(resized.flatten())\n",
        "            y_list.append(label)\n",
        "        except:\n",
        "            continue\n",
        "\n",
        "X_np = np.array(X_list)\n",
        "y_np = np.array(y_list)\n",
        "\n",
        "scaler = StandardScaler()\n",
        "X_np = scaler.fit_transform(X_np)\n",
        "\n",
        "pca = PCA(n_components=100)\n",
        "X_np = pca.fit_transform(X_np)\n",
        "\n",
        "print(f\"Processed dataset shape: {X_np.shape}, Labels shape: {y_np.shape}\")"
      ],
      "metadata": {
        "id": "eF9-Wr_zjVGB"
      },
      "execution_count": null,
      "outputs": []
    },
    {
      "cell_type": "markdown",
      "source": [
        "**=================== STEP 4: CROSS-VALIDATION ===================**"
      ],
      "metadata": {
        "id": "W9gz23YvjdY2"
      }
    },
    {
      "cell_type": "code",
      "source": [
        "k_values = range(1, 16)\n",
        "acc_l1, acc_l2 = [], []\n",
        "kf = StratifiedKFold(n_splits=5, shuffle=True, random_state=42)\n",
        "\n",
        "for k in k_values:\n",
        "    fold_l1, fold_l2 = [], []\n",
        "\n",
        "    for train_idx, test_idx in kf.split(X_np, y_np):\n",
        "        X_train, X_test = X_np[train_idx], X_np[test_idx]\n",
        "        y_train, y_test = y_np[train_idx], y_np[test_idx]\n",
        "\n",
        "        # Manhattan (L1) with weighted distance\n",
        "        model_l1 = KNeighborsClassifier(n_neighbors=k, metric='manhattan', weights='distance')\n",
        "        model_l1.fit(X_train, y_train)\n",
        "        preds_l1 = model_l1.predict(X_test)\n",
        "        fold_l1.append(accuracy_score(y_test, preds_l1))\n",
        "\n",
        "        # Euclidean (L2) with weighted distance\n",
        "        model_l2 = KNeighborsClassifier(n_neighbors=k, metric='euclidean', weights='distance')\n",
        "        model_l2.fit(X_train, y_train)\n",
        "        preds_l2 = model_l2.predict(X_test)\n",
        "        fold_l2.append(accuracy_score(y_test, preds_l2))\n",
        "\n",
        "    acc_l1.append(np.mean(fold_l1))\n",
        "    acc_l2.append(np.mean(fold_l2))"
      ],
      "metadata": {
        "id": "NIiCmMtZjgre"
      },
      "execution_count": null,
      "outputs": []
    },
    {
      "cell_type": "markdown",
      "source": [
        "**=================== STEP 5: PLOT ACCURACY ===================**"
      ],
      "metadata": {
        "id": "zuzXOshujt-4"
      }
    },
    {
      "cell_type": "code",
      "source": [
        "plt.figure(figsize=(10, 6))\n",
        "plt.plot(k_values, acc_l1, 'o-', label='Manhattan (L1)')\n",
        "plt.plot(k_values, acc_l2, 's-', label='Euclidean (L2)')\n",
        "plt.xlabel('Number of Neighbors (K)')\n",
        "plt.ylabel('Cross-Validated Accuracy')\n",
        "plt.title('k-NN Accuracy with Distance Weighting (L1 vs L2)')\n",
        "plt.legend()\n",
        "plt.grid(True)\n",
        "plt.show()"
      ],
      "metadata": {
        "id": "48oJ1kmpjts1"
      },
      "execution_count": null,
      "outputs": []
    },
    {
      "cell_type": "markdown",
      "source": [
        "**=================== STEP 6: TOP 5 PREDICTIONS ===================**"
      ],
      "metadata": {
        "id": "HnR4MJMOj5Ip"
      }
    },
    {
      "cell_type": "code",
      "source": [
        "final_knn = KNeighborsClassifier(n_neighbors=5, metric='euclidean', weights='distance')\n",
        "final_knn.fit(X_np, y_np)\n",
        "\n",
        "# Show predictions for 5 random images\n",
        "indices = sample(range(len(X_np)), 5)\n",
        "samples = X_np[indices]\n",
        "true_labels = y_np[indices]\n",
        "predicted_labels = final_knn.predict(samples)\n",
        "\n",
        "plt.figure(figsize=(15, 4))\n",
        "for i in range(5):\n",
        "    inv = pca.inverse_transform(samples[i].reshape(1, -1))\n",
        "    inv = scaler.inverse_transform(inv)\n",
        "    img = inv.reshape(IMG_SIZE, IMG_SIZE)\n",
        "    true_cls = categories[true_labels[i]]\n",
        "    pred_cls = categories[predicted_labels[i]]\n",
        "    plt.subplot(1, 5, i + 1)\n",
        "    plt.imshow(img, cmap='gray')\n",
        "    plt.title(f\"True: {true_cls}\\nPred: {pred_cls}\")\n",
        "    plt.axis('off')\n",
        "\n",
        "plt.tight_layout()\n",
        "plt.show()"
      ],
      "metadata": {
        "id": "W7wLKnSlj-bE"
      },
      "execution_count": null,
      "outputs": []
    }
  ]
}